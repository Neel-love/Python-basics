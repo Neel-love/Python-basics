{
  "nbformat": 4,
  "nbformat_minor": 0,
  "metadata": {
    "colab": {
      "provenance": []
    },
    "kernelspec": {
      "name": "python3",
      "display_name": "Python 3"
    },
    "language_info": {
      "name": "python"
    }
  },
  "cells": [
    {
      "cell_type": "markdown",
      "source": [
        "#Pythonbasics"
      ],
      "metadata": {
        "id": "0IgET5IMEk0X"
      }
    },
    {
      "cell_type": "markdown",
      "source": [
        "1.what is python, and why is it popular?\n",
        " - python is a progrming language known for its simplicity and versatility. A programing language is a formal language for creating instruction for a computer to follow.\n",
        "   A prgraming language is like a set of special rules and syboles that you use to give instuct\n",
        "  why is pythin is popular?\n",
        "  1. Ease of learning and use:\n",
        "     - python'syntax is clean, straigthforword, and close to natural language, making it beginer-friendly and easy to learn.\n",
        "  2. Versatility:\n",
        "     - it used in various fields\n",
        "       web developement, data science, artificial intelligence, game developement, scientific computing\n",
        "  3. extensive lybraries and frameworks:\n",
        "     - python has a rich ecosystem of libraries and framework that speed up development and simplify complex task.\n",
        "  4. Cross plateform:\n",
        "     - python run on various operating system, including windows, macOS, and linux, without requiring significant modifications.\n",
        "  5. Open source:\n",
        "     - it free to use ,distribute, and ,modify, which encourages wodespread adoption.\n",
        "\n",
        "  python balance of power and simplicity makes it a top choice for beginners and professionls alike."
      ],
      "metadata": {
        "id": "tmV36S_5E4qY"
      }
    },
    {
      "cell_type": "markdown",
      "source": [
        "2.what is an interpreter in python?\n",
        " - An interpreter in python is a program that excutes python code line b y line , converting it into machine-readable instructionat runtime.unlike compiled language like C or Java, which require the entire program to be converted a into machine code before excution, python's interpreter processes the code dynamically.\n",
        "  key feature of the python interpreter:\n",
        "  1. line by line execution:\n",
        "    - python excutes code one statement at time, making it easier to debug and experiment.\n",
        "  2. Dynamic typing:\n",
        "    - The interpreter allows for dynamic type cheaking, meaning you don't need to declare variable types explicitly\n",
        "  3. Interctive:\n",
        "    - the python interpreter provides an interactive mode where you can write and excute code in real time. This useful for testing and learning.\n",
        "  4.Plateform independence:\n",
        "    - python interpreter are available for various plateforms(Windows, macOS, linux). code  written on another without modification.\n",
        "  5. Error hadling:\n",
        "    - Errors are reported immediately, helping developers identify and fix them faster.\n",
        "    Common python interpreters:\n",
        "    cpython, pypy, jython, ironpython, micropyton\n",
        "    \n",
        "    when you run a .py file or interact with python in the terminal, the interpreter handles the execution.\n",
        "    The python interpreter reads and executes the scripts.py file"
      ],
      "metadata": {
        "id": "bobOXnb_C1Dx"
      }
    },
    {
      "cell_type": "markdown",
      "source": [
        "3. What is pre-define keywordsin python?\n",
        "  - In python pre-defined keywords are the words that have specific meaning and purposes. these cannot be used as identifiers because they are part of the language syntax.\n",
        "  Here is the list of the pythons keywords:\n",
        "\n",
        "  Controlflow keywords\n",
        "  - if,elif,else\n",
        "  - for, while\n",
        "  - break,continue\n",
        "  - return,yield\n",
        "  - try,except,finally\n",
        "  - raise\n",
        "  - assert,pass\n",
        "\n",
        "  logical and comprision keyword\n",
        "  - and,or,not\n",
        "  - in,is\n",
        "\n",
        "  Datatypes keywords\n",
        "  - true,false,none\n",
        "\n",
        " class and function keywords\n",
        "  - def,class\n",
        "  - lambda\n",
        " variables scope keywords\n",
        "  - import,from,as\n",
        "\n",
        "  - To see the complete list of keywords programmatically in python, you can use the keyword module:\n"
      ],
      "metadata": {
        "id": "iztsbANYC0-n"
      }
    },
    {
      "cell_type": "code",
      "execution_count": null,
      "metadata": {
        "id": "8uHZJXpiEVV9",
        "colab": {
          "base_uri": "https://localhost:8080/"
        },
        "outputId": "498239fa-3ee9-4c3d-c2fa-1a3ab74540f6"
      },
      "outputs": [
        {
          "output_type": "stream",
          "name": "stdout",
          "text": [
            "['False', 'None', 'True', 'and', 'as', 'assert', 'async', 'await', 'break', 'class', 'continue', 'def', 'del', 'elif', 'else', 'except', 'finally', 'for', 'from', 'global', 'if', 'import', 'in', 'is', 'lambda', 'nonlocal', 'not', 'or', 'pass', 'raise', 'return', 'try', 'while', 'with', 'yield']\n"
          ]
        }
      ],
      "source": [
        "import keyword\n",
        "print(keyword.kwlist)\n"
      ]
    },
    {
      "cell_type": "markdown",
      "source": [
        "4. Can keywords be used as variable names?\n",
        "   - no, keywords cannot be used as variable names in python. keywords are reserved by the python language because they have special meaning and are part of its syntax. attempting to use a keyword as a variable name will result in a syntaxerror\n",
        "\n",
        "---\n",
        "\n"
      ],
      "metadata": {
        "id": "UblIYEvLCVVl"
      }
    },
    {
      "cell_type": "markdown",
      "source": [
        "5. what is mutability in python?\n",
        "  - mutability in python refers to the ability of an object to be modified after it has been created .In other words ,mutable objects can have their contents changed ,while immutable objects cannot.\n",
        "  EXAMPLES:\n",
        "     - lists: you can add remove or modify elements.\n",
        "     - Dictionaries: youcan add,update, or delete key-value pairs.\n",
        "     - Sets: you can add or remove elements.  "
      ],
      "metadata": {
        "id": "Iq9eGvGcD0yF"
      }
    },
    {
      "cell_type": "markdown",
      "source": [
        "6. why are lists mutable ,but tuples are immutable?\n",
        "  - the difference in mutability between lists and tuples in python arises from their design and use cases:\n",
        "  \n",
        "   LIST:\n",
        "   - designed to be dynamic and flexible .They allow modifications(add, remove ,or change elements) because they are often used for data that needs to be updated or changed over time.\n",
        "   - python stores lists in memory with a structer that allows resizing and modification.each element in a list can be independently modified because the list itself holds reference to its elements.\n",
        "\n",
        "   TUPLES:\n",
        "   - designed to be static and reliable .they are often used to represent fixed collections of items, such as coordinates or configurations,where immutability ensures the data remains consistent and unaltered.\n",
        "   - tuples are implemented to store thier elements in a fixed memory structer. once created the memory layout of a tuple cannot be altered .this design makes tuples fasrter and safer for use cases where immutability is crucial."
      ],
      "metadata": {
        "id": "TMVbzJBffAb8"
      }
    },
    {
      "cell_type": "markdown",
      "source": [
        "7. what is the difference between '==' and 'is' operaters in python?\n",
        "  - the == and 'is' operaters in python are used for different purpouse:\n",
        "   1. '=='(Equality operator):\n",
        "      - Purpose: cheak if two object have the same value\n",
        "      - Comparison type : compares the contents of the objects, not their memory locations.\n",
        "      - Behaviour: even if two objects are stored in different memory locations, == can return true if their values are identical\n",
        "   2.Is(identity operater)\n",
        "      - purpose : cheaks if two objects are the same object in memory(i.e., they have the same memory address).\n",
        "      - Comparision type: compares the identity of the obejects ,not their content.\n",
        "      - behaviour: returns True only if the objects being compared are tge exact same object.\n",
        "\n"
      ],
      "metadata": {
        "id": "LFlapYS-lVQN"
      }
    },
    {
      "cell_type": "markdown",
      "source": [
        "8. what are the logical oprators in python ?\n",
        "  - logical operators in python are used to perform logical operations on boolean values(True and False). they are commomly used in conditional statements, loops, and other scenarios requiring decision making. python provides three logical operators(and,or & not)"
      ],
      "metadata": {
        "id": "35LGf99ZIOFJ"
      }
    },
    {
      "cell_type": "markdown",
      "source": [
        "9. what is type casting in python?\n",
        "  - type casting in python refers to the process of converting one data type to another. It allows you to change the type of a variable, enabling operations that require specific types .Python provides built-in function for type casting.\n",
        "\n",
        "   **Types of type casting**\n",
        "   1. Implicit type casting:\n",
        "     - Done automatically by python.\n",
        "     - occure when python converts one data type to another without user intervation.\n",
        "   2. Explict type casting:\n",
        "     - Done manually using built-in functions.\n",
        "     - converts the type explicitly as per the user's need."
      ],
      "metadata": {
        "id": "7VkYFiiUQ2_j"
      }
    },
    {
      "cell_type": "markdown",
      "source": [
        "10. what is difference between implicit and explicit type casting?\n",
        "  - The main difference between implicit and explicit type casting isthe type of conversion is performed and whether it is done automatically or manually.\n",
        "\n",
        "  *Implicit typcasting*\n",
        "    - it is automatically performed by python without any user intervation.\n",
        "    - when python prokotes one data type to another to avoid data during operations.\n",
        "    - python ensures that no data is lost during that no data is lost during the concersion.\n",
        "\n",
        " *explicit type casting*\n",
        "    - it is performed manually by the programmer using built-in fuction like int(), float(), str(), etc\n",
        "    - when you intentionally convert one data type to another ,even if python doesn't do it automatically.\n"
      ],
      "metadata": {
        "id": "0KFiAtAwJNEa"
      }
    },
    {
      "cell_type": "markdown",
      "source": [
        "11. what is the purpose conditional statements in python?\n",
        "    - The purpose to allow a program to make decision and excute specific blocks of code beased on certain conditions. They help control the of the program by enabling it to behave differently depending on the input, circumstances, or logic."
      ],
      "metadata": {
        "id": "2Kd9WNFruZuu"
      }
    },
    {
      "cell_type": "markdown",
      "source": [
        "12. How does the elif statement work?\n",
        "   - The elif statement in python is used to cheak multiple conditions sequetially after an initial if statement. it allow a program to execute different blocks of code based on which condition evaluates to True. The elif statement stands \"else if\".\n",
        "     - The program starts by cheaking the condition in the if statement .\n",
        "     - If the if conditon is True , the corresponding block of code runs, and the rest of the conditions are ignored.\n",
        "     "
      ],
      "metadata": {
        "id": "e5FTo1iTuZrW"
      }
    },
    {
      "cell_type": "markdown",
      "source": [
        "13. What is the difference betweet for and while loops?\n",
        "    - The for loops and while loop in python are used to repeat a block of code, but they differ in how they are used and under what conditions they iterate.\n",
        "    - use a for loop when iterating over a sequence or when the number of iteration is fixed.\n",
        "    - use a while loop when the loop should continue untill a condition changes, and you don't know how many iterations will occur in advance.\n"
      ],
      "metadata": {
        "id": "SIxLtMyLA9q1"
      }
    },
    {
      "cell_type": "markdown",
      "source": [
        "14. Describe a scenario where a while loop is more suitable than a for loop?\n",
        "   - A while loop is more siotable than a for loop when number of iteration is not known in advance and depends on a condition being met during runtime.\n",
        "  \n",
        "   **Scenario: user input validation**\n",
        "\n",
        "   Imagine creating a program that repeatedly asks the user to enter a valid password untill the correct password is entered. In this case, the loop depends on a condition (whether the password is correct) rather than a fixed number of iteration.\n",
        "  Here , while loop is appropriate because you don't know how many attempts the user will need to provide the correct password."
      ],
      "metadata": {
        "id": "Wwu8mrTiFGuo"
      }
    },
    {
      "cell_type": "markdown",
      "source": [
        "#Practical Question"
      ],
      "metadata": {
        "id": "6cghOllrJm3_"
      }
    },
    {
      "cell_type": "code",
      "source": [
        "#1.write a python program to print\"Hello world!\n",
        "print(\"Hello world!\")"
      ],
      "metadata": {
        "colab": {
          "base_uri": "https://localhost:8080/"
        },
        "id": "hFic98dldWO-",
        "outputId": "ed0dfea5-bcb2-482e-c2d1-8d0fd6568c33"
      },
      "execution_count": null,
      "outputs": [
        {
          "output_type": "stream",
          "name": "stdout",
          "text": [
            "Hello world!\n"
          ]
        }
      ]
    },
    {
      "cell_type": "code",
      "source": [
        "#2.Write a python program that displays your name and age?\n",
        "'''\n",
        "here's a python program to displays your name and age:\n",
        "'''\n",
        "name =\"Nilesh\"\n",
        "age =25\n",
        "print(\"My name is\", name)\n",
        "print(\"I am\", \"25\")"
      ],
      "metadata": {
        "colab": {
          "base_uri": "https://localhost:8080/"
        },
        "id": "i6ABQC7peTMK",
        "outputId": "3b0fe8d7-6646-4943-d4a0-e24eb3c0f0f1"
      },
      "execution_count": null,
      "outputs": [
        {
          "output_type": "stream",
          "name": "stdout",
          "text": [
            "My name is Nilesh\n",
            "I am 25\n"
          ]
        }
      ]
    },
    {
      "cell_type": "code",
      "source": [
        "#3.write code to print all the pre-define keywords in python using the keyword library\n",
        "'''\n",
        "here's a python code to print all the pre-defined keywords using the keywords library:\n",
        "'''\n",
        "import keyword\n",
        "print(\"python keywords:\")\n",
        "for kw in keyword.kwlist:\n",
        "  print(kw)"
      ],
      "metadata": {
        "colab": {
          "base_uri": "https://localhost:8080/"
        },
        "id": "467WpMCpfzq0",
        "outputId": "d660303e-04c4-49db-fd47-bfbdc8d49e2c"
      },
      "execution_count": null,
      "outputs": [
        {
          "output_type": "stream",
          "name": "stdout",
          "text": [
            "python keywords:\n",
            "False\n",
            "None\n",
            "True\n",
            "and\n",
            "as\n",
            "assert\n",
            "async\n",
            "await\n",
            "break\n",
            "class\n",
            "continue\n",
            "def\n",
            "del\n",
            "elif\n",
            "else\n",
            "except\n",
            "finally\n",
            "for\n",
            "from\n",
            "global\n",
            "if\n",
            "import\n",
            "in\n",
            "is\n",
            "lambda\n",
            "nonlocal\n",
            "not\n",
            "or\n",
            "pass\n",
            "raise\n",
            "return\n",
            "try\n",
            "while\n",
            "with\n",
            "yield\n"
          ]
        }
      ]
    },
    {
      "cell_type": "code",
      "source": [
        "#4. write a program that cheaks if a given word is a python keyword.\n",
        "'''\n",
        "here's a python program that cheaks if a given word is a python keyword:\n",
        "'''\n",
        "import keyword\n",
        "\n",
        "# Function to check if a word is a Python keyword\n",
        "def is_python_keyword(word):\n",
        "    return keyword.iskeyword(word)\n",
        "\n",
        "# Input from the user\n",
        "word = input(\"Enter a word to check if it's a Python keyword: \")\n",
        "\n",
        "# Check and display result\n",
        "if is_python_keyword(word):\n",
        "    print(f\"'{word}' is a Python keyword.\")\n",
        "else:\n",
        "    print(f\"'{word}' is NOT a Python keyword.\")"
      ],
      "metadata": {
        "id": "F_LzivvitV2D",
        "colab": {
          "base_uri": "https://localhost:8080/"
        },
        "outputId": "33ad4384-902d-4fd9-ea87-e57587c51a9b"
      },
      "execution_count": 5,
      "outputs": [
        {
          "output_type": "stream",
          "name": "stdout",
          "text": [
            "Enter a word to check if it's a Python keyword: if\n",
            "'if' is a Python keyword.\n"
          ]
        }
      ]
    },
    {
      "cell_type": "code",
      "source": [
        "#5.creat a list and tuple in python ,and demonstrate how attempting to change an element works diffrently for each.\n",
        "'''\n",
        "here's a python program that creates a list and a tuple, and demonstrates how attempting to change an element works differently for each:\n",
        "'''\n",
        "# Create a list and a tuple\n",
        "my_list = [1, 2, 3]\n",
        "my_tuple = (1, 2, 3)\n",
        "\n",
        "# Attempting to modify an element in the list\n",
        "print(\"Original list:\", my_list)\n",
        "my_list[1] = 20  # Changing the second element\n",
        "print(\"Modified list:\", my_list)\n",
        "\n",
        "# Attempting to modify an element in the tuple\n",
        "print(\"\\nOriginal tuple:\", my_tuple)\n",
        "try:\n",
        "    my_tuple[1] = 20  # Trying to change the second element\n",
        "except TypeError as e:\n",
        "    print(\"Error when trying to modify the tuple:\", e)"
      ],
      "metadata": {
        "colab": {
          "base_uri": "https://localhost:8080/"
        },
        "id": "9L7JEntRsyKd",
        "outputId": "0343e01b-d0e6-4669-889e-575cf39a16d6"
      },
      "execution_count": 6,
      "outputs": [
        {
          "output_type": "stream",
          "name": "stdout",
          "text": [
            "Original list: [1, 2, 3]\n",
            "Modified list: [1, 20, 3]\n",
            "\n",
            "Original tuple: (1, 2, 3)\n",
            "Error when trying to modify the tuple: 'tuple' object does not support item assignment\n"
          ]
        }
      ]
    },
    {
      "cell_type": "code",
      "source": [
        "\n",
        "#6.Write a function to demonstrate the behavior of mutable and immutable arguments.\n",
        "'''\n",
        "here's a python function demonstrating the behavior of mutable and immutable arguments:\n",
        "'''\n",
        "# Function to demonstrate mutable and immutable behavior\n",
        "def demonstrate_arguments(immutable_arg, mutable_arg):\n",
        "    # Modifying the immutable argument\n",
        "    immutable_arg += 10  # This creates a new object, doesn't affect the original\n",
        "\n",
        "    # Modifying the mutable argument\n",
        "    mutable_arg.append(100)  # This modifies the original list\n",
        "\n",
        "    print(f\"Inside function: immutable_arg = {immutable_arg}, mutable_arg = {mutable_arg}\")\n",
        "\n",
        "# Main program\n",
        "immutable_value = 20  # Immutable argument (integer)\n",
        "mutable_value = [1, 2, 3]  # Mutable argument (list)\n",
        "\n",
        "print(f\"Before function call: immutable_value = {immutable_value}, mutable_value = {mutable_value}\")\n",
        "\n",
        "# Calling the function\n",
        "demonstrate_arguments(immutable_value, mutable_value)\n",
        "\n",
        "print(f\"After function call: immutable_value = {immutable_value}, mutable_value = {mutable_value}\")"
      ],
      "metadata": {
        "colab": {
          "base_uri": "https://localhost:8080/"
        },
        "id": "pvFhENAJuGBd",
        "outputId": "2adf7599-47bf-4d34-87ca-b9b7c1857627"
      },
      "execution_count": 11,
      "outputs": [
        {
          "output_type": "stream",
          "name": "stdout",
          "text": [
            "Before function call: immutable_value = 20, mutable_value = [1, 2, 3]\n",
            "Inside function: immutable_arg = 30, mutable_arg = [1, 2, 3, 100]\n",
            "After function call: immutable_value = 20, mutable_value = [1, 2, 3, 100]\n"
          ]
        }
      ]
    },
    {
      "cell_type": "code",
      "source": [
        "#7.write a  program to demonstrate the use of logical operaters.\n",
        "'''\n",
        "here's a python program to demonstrate the use of logical operators:\n",
        "'''\n",
        "def logical_operators_demo(a,b):\n",
        "  print(f\"a {a}, b= {b}\")\n",
        "\n",
        "  #AND operator\n",
        "  print(f\"a>0 and b>0: {a>0 and b>0}\")\n",
        "\n",
        "  #OR operator\n",
        "  print(f\"a > 0 or b> 0: {a>0 or b>0}\")\n",
        "\n",
        "#Main program\n",
        "#Input values\n",
        "a= int(input(\"Enter the value of a: \"))\n",
        "b= int(input(\"Enter the value of b: \"))\n",
        "\n",
        "# demonstrating logical operators\n",
        "logical_operators_demo(a,b)\n"
      ],
      "metadata": {
        "colab": {
          "base_uri": "https://localhost:8080/"
        },
        "id": "OanUrwNlzHDm",
        "outputId": "a2fe6024-d830-430b-fbf6-b4806673a364"
      },
      "execution_count": 13,
      "outputs": [
        {
          "output_type": "stream",
          "name": "stdout",
          "text": [
            "Enter the value of a: 5\n",
            "Enter the value of b: -3\n",
            "a 5, b= -3\n",
            "a>0 and b>0: False\n",
            "a > 0 or b> 0: True\n"
          ]
        }
      ]
    },
    {
      "cell_type": "code",
      "source": [
        "#8. write a python programe to convert user input from string to integer, float,and boolean types\n",
        "'''\n",
        "here's a python program that takes user input and converts it to different data types:\n",
        "integer ,float ,boolean.\n",
        "'''\n",
        "def convert_input(user_input):\n",
        "    try:\n",
        "        # Convert to integer\n",
        "        int_value = int(user_input)\n",
        "        print(f\"Integer: {int_value}\")\n",
        "    except ValueError:\n",
        "        print(\"Cannot convert to Integer\")\n",
        "\n",
        "    try:\n",
        "        # Convert to float\n",
        "        float_value = float(user_input)\n",
        "        print(f\"Float: {float_value}\")\n",
        "    except ValueError:\n",
        "        print(\"Cannot convert to Float\")\n",
        "\n",
        "    # Convert to boolean\n",
        "    bool_value = bool(user_input.strip())  # Any non-empty string evaluates to True\n",
        "    print(f\"Boolean: {bool_value}\")\n",
        "\n",
        "# Main program\n",
        "# Get user input\n",
        "user_input = input(\"Enter a value: \")\n",
        "\n",
        "# Perform conversions\n",
        "convert_input(user_input)\n"
      ],
      "metadata": {
        "colab": {
          "base_uri": "https://localhost:8080/"
        },
        "id": "M9TzpHFI3bAU",
        "outputId": "be41d886-a8ea-4c5d-d267-82db23035454"
      },
      "execution_count": 15,
      "outputs": [
        {
          "output_type": "stream",
          "name": "stdout",
          "text": [
            "Enter a value: 123\n",
            "Integer: 123\n",
            "Float: 123.0\n",
            "Boolean: True\n"
          ]
        }
      ]
    },
    {
      "cell_type": "code",
      "source": [
        "#9. write code to demonstrate type casting with list element\n",
        "'''\n",
        "here's a python code that demonstrates type casting with list elements:\n",
        "'''\n",
        "# Function to demonstrate type casting with list elements\n",
        "def demonstrate_type_casting(input_list):\n",
        "    print(\"Original list:\", input_list)\n",
        "\n",
        "    # Convert elements to integers (if possible)\n",
        "    try:\n",
        "        int_list = [int(x) for x in input_list]\n",
        "        print(\"Converted to integers:\", int_list)\n",
        "    except ValueError:\n",
        "        print(\"Some elements couldn't be converted to integers.\")\n",
        "\n",
        "    # Convert elements to floats (if possible)\n",
        "    try:\n",
        "        float_list = [float(x) for x in input_list]\n",
        "        print(\"Converted to floats:\", float_list)\n",
        "    except ValueError:\n",
        "        print(\"Some elements couldn't be converted to floats.\")\n",
        "\n",
        "    # Convert elements to strings\n",
        "    string_list = [str(x) for x in input_list]\n",
        "    print(\"Converted to strings:\", string_list)\n",
        "\n",
        "    # Convert elements to booleans\n",
        "    bool_list = [bool(x) for x in input_list]\n",
        "    print(\"Converted to booleans:\", bool_list)\n",
        "\n",
        "# Main program\n",
        "# Example input list\n",
        "input_list = input(\"Enter a list of elements separated by spaces: \").split()\n",
        "\n",
        "# Demonstrate type casting\n",
        "demonstrate_type_casting(input_list)"
      ],
      "metadata": {
        "colab": {
          "base_uri": "https://localhost:8080/"
        },
        "id": "6ZIXLzn0IYZ0",
        "outputId": "ce4c8bc5-a4ef-4aea-9199-35bfeff59de5"
      },
      "execution_count": 16,
      "outputs": [
        {
          "output_type": "stream",
          "name": "stdout",
          "text": [
            "Enter a list of elements separated by spaces: 10,3.14,abc,0,''\n",
            "Original list: [\"10,3.14,abc,0,''\"]\n",
            "Some elements couldn't be converted to integers.\n",
            "Some elements couldn't be converted to floats.\n",
            "Converted to strings: [\"10,3.14,abc,0,''\"]\n",
            "Converted to booleans: [True]\n"
          ]
        }
      ]
    },
    {
      "cell_type": "code",
      "source": [
        "#10.Write a program that cheaks if number is positive ,negative ,zero.\n",
        "'''\n",
        "here's a simple python program to cheak if a number is positive, negative, or zero:\n",
        "'''\n",
        "def cheak_number(number):\n",
        "  if number > 0:\n",
        "    print(\"The number is positive.\")\n",
        "  elif number < 0:\n",
        "    print(\"The number is negative.\")\n",
        "  else:\n",
        "    print(\"The number is zero.\")\n",
        "\n",
        "# Main program\n",
        "# Input a number from the user\n",
        "try:\n",
        "  number = float(input(\"Enter a number: \"))\n",
        "  cheak_number(number)\n",
        "except ValueError:\n",
        "  print(\"Invalid input. Please enter a valid number.\")\n"
      ],
      "metadata": {
        "colab": {
          "base_uri": "https://localhost:8080/"
        },
        "id": "hicTz5w9J0KK",
        "outputId": "3a7e8261-de72-401e-a56c-1556d5ddea52"
      },
      "execution_count": 17,
      "outputs": [
        {
          "output_type": "stream",
          "name": "stdout",
          "text": [
            "Enter a number: 5\n",
            "The number is positive.\n"
          ]
        }
      ]
    },
    {
      "cell_type": "code",
      "source": [
        "#11. write a loop to print number from 1 to 10.\n",
        "'''\n",
        "here's a python program to print numbers from 1 to 10 using a for loop:\n",
        "'''\n",
        "#for loop to print number from 1 to 10\n",
        "for number in range(1,11):\n",
        "  print(number)"
      ],
      "metadata": {
        "colab": {
          "base_uri": "https://localhost:8080/"
        },
        "id": "GNYnPe3VLWZX",
        "outputId": "721516b5-1271-48e8-f62a-bbea01a04476"
      },
      "execution_count": 18,
      "outputs": [
        {
          "output_type": "stream",
          "name": "stdout",
          "text": [
            "1\n",
            "2\n",
            "3\n",
            "4\n",
            "5\n",
            "6\n",
            "7\n",
            "8\n",
            "9\n",
            "10\n"
          ]
        }
      ]
    },
    {
      "cell_type": "code",
      "source": [
        "#12. Write a python program to find the sum of all even number between 1 to 50\n",
        "'''\n",
        "Here's a python program that calculate the sum of all even numbers between 1 and 50:\n",
        "'''\n",
        "def sum_even_numbers(start, end):\n",
        "    \"\"\"\n",
        "    Calculate the sum of all even numbers between start and end.\n",
        "\n",
        "    Args:\n",
        "    start (int): The lower limit (inclusive).\n",
        "    end (int): The upper limit (inclusive).\n",
        "\n",
        "    Returns:\n",
        "    int: The sum of all even numbers between start and end.\n",
        "    \"\"\"\n",
        "    even_sum = sum(range(start + (start % 2), end + 1, 2))\n",
        "    return even_sum\n",
        "\n",
        "start_num = 1\n",
        "end_num = 50\n",
        "result = sum_even_numbers(start_num, end_num)\n",
        "print(\"Sum of even numbers between\", start_num, \"and\", end_num, \"is:\", result)\n"
      ],
      "metadata": {
        "colab": {
          "base_uri": "https://localhost:8080/"
        },
        "id": "GeXLh2CoMjhI",
        "outputId": "4df8a50f-183a-4736-c4c1-ca2559596431"
      },
      "execution_count": 20,
      "outputs": [
        {
          "output_type": "stream",
          "name": "stdout",
          "text": [
            "Sum of even numbers between 1 and 50 is: 650\n"
          ]
        }
      ]
    },
    {
      "cell_type": "code",
      "source": [
        "#12.Write a program to reverse a string using a while loop\n",
        "'''\n",
        "Here's a python program that reverse a string using a while loop:\n",
        "'''\n",
        "def reverse_string(input_str):\n",
        "    reversed_str = \"\"\n",
        "    i = len(input_str) - 1\n",
        "\n",
        "    while i >= 0:\n",
        "        reversed_str += input_str[i]\n",
        "        i -= 1\n",
        "\n",
        "    return reversed_str\n",
        "\n",
        "input_str = input(\"Enter a string: \")\n",
        "reversed_str = reverse_string(input_str)\n",
        "print(\"Reversed string:\", reversed_str)"
      ],
      "metadata": {
        "colab": {
          "base_uri": "https://localhost:8080/"
        },
        "id": "8U55oVLBOBqZ",
        "outputId": "26711e0f-15d9-4b80-c64b-c6a795d8f8d6"
      },
      "execution_count": 21,
      "outputs": [
        {
          "output_type": "stream",
          "name": "stdout",
          "text": [
            "Enter a string: hello\n",
            "Reversed string: olleh\n"
          ]
        }
      ]
    },
    {
      "cell_type": "code",
      "source": [
        "#13.Write a Python program to calculate the factorial of a number provided by the user using a while loop\n",
        "'''\n",
        "Here's a Python program that calculates the factorial of a number provided by the user using a while loop:\n",
        "'''\n",
        "def factorial(n):\n",
        "    # Initialize the result to 1 (since factorial of 0 or 1 is 1)\n",
        "    result = 1\n",
        "\n",
        "    # Make sure the input number is non-negative\n",
        "    if n < 0:\n",
        "        return \"Factorial is not defined for negative numbers\"\n",
        "\n",
        "    # Use a while loop to calculate the factorial\n",
        "    while n > 1:\n",
        "        result *= n  # Multiply result by the current number n\n",
        "        n -= 1  # Decrement n\n",
        "\n",
        "    return result\n",
        "\n",
        "# Take input from the user\n",
        "num = int(input(\"Enter a number to calculate its factorial: \"))\n",
        "\n",
        "# Call the factorial function and display the result\n",
        "print(\"Factorial:\", factorial(num))\n"
      ],
      "metadata": {
        "colab": {
          "base_uri": "https://localhost:8080/"
        },
        "id": "_RRL9o2vPnLW",
        "outputId": "f1d3799e-8883-4510-baa4-0f5de8772895"
      },
      "execution_count": 22,
      "outputs": [
        {
          "output_type": "stream",
          "name": "stdout",
          "text": [
            "Enter a number to calculate its factorial: 5\n",
            "Factorial: 120\n"
          ]
        }
      ]
    },
    {
      "cell_type": "code",
      "source": [],
      "metadata": {
        "id": "i0qad5zGRSeN"
      },
      "execution_count": null,
      "outputs": []
    }
  ]
}